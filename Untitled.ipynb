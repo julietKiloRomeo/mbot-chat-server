{
 "cells": [
  {
   "cell_type": "code",
   "execution_count": 17,
   "id": "79cb6ac2-12ac-45e1-9ce6-9ef336212179",
   "metadata": {},
   "outputs": [
    {
     "name": "stderr",
     "output_type": "stream",
     "text": [
      "ALSA lib pcm.c:2664:(snd_pcm_open_noupdate) Unknown PCM cards.pcm.rear\n",
      "ALSA lib pcm.c:2664:(snd_pcm_open_noupdate) Unknown PCM cards.pcm.center_lfe\n",
      "ALSA lib pcm.c:2664:(snd_pcm_open_noupdate) Unknown PCM cards.pcm.side\n",
      "ALSA lib pcm_route.c:877:(find_matching_chmap) Found no matching channel map\n",
      "ALSA lib pcm_route.c:877:(find_matching_chmap) Found no matching channel map\n",
      "ALSA lib pcm_route.c:877:(find_matching_chmap) Found no matching channel map\n",
      "ALSA lib pcm_route.c:877:(find_matching_chmap) Found no matching channel map\n",
      "ALSA lib pcm_oss.c:397:(_snd_pcm_oss_open) Cannot open device /dev/dsp\n",
      "ALSA lib pcm_oss.c:397:(_snd_pcm_oss_open) Cannot open device /dev/dsp\n",
      "ALSA lib confmisc.c:160:(snd_config_get_card) Invalid field card\n",
      "ALSA lib pcm_usb_stream.c:482:(_snd_pcm_usb_stream_open) Invalid card 'card'\n",
      "ALSA lib confmisc.c:160:(snd_config_get_card) Invalid field card\n",
      "ALSA lib pcm_usb_stream.c:482:(_snd_pcm_usb_stream_open) Invalid card 'card'\n"
     ]
    },
    {
     "name": "stdout",
     "output_type": "stream",
     "text": [
      "Recording...\n",
      "Finished recording\n"
     ]
    }
   ],
   "source": [
    "from chat_server import record_audio\n",
    "import requests\n",
    "\n",
    "record_audio(\"test.wav\", duration=5)\n"
   ]
  },
  {
   "cell_type": "code",
   "execution_count": 18,
   "id": "7621404b-ab57-41ad-a723-9e6f315ac7a2",
   "metadata": {},
   "outputs": [
    {
     "name": "stdout",
     "output_type": "stream",
     "text": [
      "Response file saved as \"response_file.wav\"\n"
     ]
    }
   ],
   "source": [
    "# Define the URL\n",
    "url = 'http://localhost:5000/tell'\n",
    "\n",
    "# Specify the path to the file you want to upload\n",
    "file_path = 'test.wav'\n",
    "\n",
    "# Make a POST request with the file\n",
    "with open(file_path, 'rb') as f:\n",
    "    files = {'file': (file_path, f)}\n",
    "    response = requests.post(url, files=files)\n",
    "\n",
    "# Save the response content to a file\n",
    "with open('response_file.wav', 'wb') as f:\n",
    "    f.write(response.content)\n",
    "\n",
    "print('Response file saved as \"response_file.wav\"')\n"
   ]
  },
  {
   "cell_type": "code",
   "execution_count": 29,
   "id": "86a5f00d-00f4-44a7-9668-253c42fac968",
   "metadata": {},
   "outputs": [
    {
     "name": "stdout",
     "output_type": "stream",
     "text": [
      "Help on method generate in module openai.resources.images:\n",
      "\n",
      "generate(*, prompt: 'str', model: \"Union[str, Literal['dall-e-2', 'dall-e-3'], None] | NotGiven\" = NOT_GIVEN, n: 'Optional[int] | NotGiven' = NOT_GIVEN, quality: \"Literal['standard', 'hd'] | NotGiven\" = NOT_GIVEN, response_format: \"Optional[Literal['url', 'b64_json']] | NotGiven\" = NOT_GIVEN, size: \"Optional[Literal['256x256', '512x512', '1024x1024', '1792x1024', '1024x1792']] | NotGiven\" = NOT_GIVEN, style: \"Optional[Literal['vivid', 'natural']] | NotGiven\" = NOT_GIVEN, user: 'str | NotGiven' = NOT_GIVEN, extra_headers: 'Headers | None' = None, extra_query: 'Query | None' = None, extra_body: 'Body | None' = None, timeout: 'float | httpx.Timeout | None | NotGiven' = NOT_GIVEN) -> 'ImagesResponse' method of openai.resources.images.Images instance\n",
      "    Creates an image given a prompt.\n",
      "    \n",
      "    Args:\n",
      "      prompt: A text description of the desired image(s). The maximum length is 1000\n",
      "          characters for `dall-e-2` and 4000 characters for `dall-e-3`.\n",
      "    \n",
      "      model: The model to use for image generation.\n",
      "    \n",
      "      n: The number of images to generate. Must be between 1 and 10. For `dall-e-3`, only\n",
      "          `n=1` is supported.\n",
      "    \n",
      "      quality: The quality of the image that will be generated. `hd` creates images with finer\n",
      "          details and greater consistency across the image. This param is only supported\n",
      "          for `dall-e-3`.\n",
      "    \n",
      "      response_format: The format in which the generated images are returned. Must be one of `url` or\n",
      "          `b64_json`.\n",
      "    \n",
      "      size: The size of the generated images. Must be one of `256x256`, `512x512`, or\n",
      "          `1024x1024` for `dall-e-2`. Must be one of `1024x1024`, `1792x1024`, or\n",
      "          `1024x1792` for `dall-e-3` models.\n",
      "    \n",
      "      style: The style of the generated images. Must be one of `vivid` or `natural`. Vivid\n",
      "          causes the model to lean towards generating hyper-real and dramatic images.\n",
      "          Natural causes the model to produce more natural, less hyper-real looking\n",
      "          images. This param is only supported for `dall-e-3`.\n",
      "    \n",
      "      user: A unique identifier representing your end-user, which can help OpenAI to monitor\n",
      "          and detect abuse.\n",
      "          [Learn more](https://platform.openai.com/docs/guides/safety-best-practices/end-user-ids).\n",
      "    \n",
      "      extra_headers: Send extra headers\n",
      "    \n",
      "      extra_query: Add additional query parameters to the request\n",
      "    \n",
      "      extra_body: Add additional JSON properties to the request\n",
      "    \n",
      "      timeout: Override the client-level default timeout for this request, in seconds\n",
      "\n"
     ]
    }
   ],
   "source": [
    "help(client.images.generate)"
   ]
  },
  {
   "cell_type": "code",
   "execution_count": 34,
   "id": "af4a06af-24d4-4a0a-bbaa-16aa043d7270",
   "metadata": {},
   "outputs": [
    {
     "data": {
      "text/markdown": [
       "![my image](https://oaidalleapiprodscus.blob.core.windows.net/private/org-ELBp90kgA1cOGLp5DKC20THP/user-48uCgc3uT9DT0EpNsVeo1jMZ/img-OXOGdqUGjovySokywgT3F07D.png?st=2024-01-22T20%3A36%3A22Z&se=2024-01-22T22%3A36%3A22Z&sp=r&sv=2021-08-06&sr=b&rscd=inline&rsct=image/png&skoid=6aaadede-4fb3-4698-a8f6-684d7786b067&sktid=a48cca56-e6da-484e-a814-9c849652bcb3&skt=2024-01-22T19%3A54%3A33Z&ske=2024-01-23T19%3A54%3A33Z&sks=b&skv=2021-08-06&sig=P%2BYkdQcfaUc0NKA5FFythk/jTIwFqzD1y/b0hAVUico%3D)"
      ],
      "text/plain": [
       "<IPython.core.display.Markdown object>"
      ]
     },
     "execution_count": 34,
     "metadata": {},
     "output_type": "execute_result"
    }
   ],
   "source": [
    "from chat_server import *\n",
    "from IPython.display import Markdown\n",
    "import os\n",
    "import dotenv\n",
    "dotenv.load_dotenv(\".env\")\n",
    "\n",
    "from openai import OpenAI\n",
    "client = OpenAI(api_key=os.getenv(\"OPENAI_API_KEY\"))\n",
    "\n",
    "response = client.images.generate(\n",
    "  model=\"dall-e-3\",\n",
    "  prompt=\"a blonde 9y old girl walks through a portal. She enters a magical candyland. 3 point perspective. psychedelic. foreshortening\",\n",
    "  size=\"1024x1024\",\n",
    "  quality=\"hd\",\n",
    "  style=\"vivid\",\n",
    "  n=1,\n",
    ")\n",
    "\n",
    "image_url = response.data[0].url\n",
    "Markdown(f\"![my image]({image_url})\")"
   ]
  },
  {
   "cell_type": "code",
   "execution_count": 35,
   "id": "815db307-0220-48e8-bd0e-57f7a88c9217",
   "metadata": {},
   "outputs": [
    {
     "data": {
      "text/plain": [
       "('alvilde-in-wonderland-2.png', <http.client.HTTPMessage at 0x7f2f0997d8a0>)"
      ]
     },
     "execution_count": 35,
     "metadata": {},
     "output_type": "execute_result"
    }
   ],
   "source": [
    "\n",
    "\n",
    "import urllib\n",
    "\n",
    "urllib.request.urlretrieve(image_url, \"alvilde-in-wonderland-2.png\") "
   ]
  }
 ],
 "metadata": {
  "kernelspec": {
   "display_name": "Python 3 (ipykernel)",
   "language": "python",
   "name": "python3"
  },
  "language_info": {
   "codemirror_mode": {
    "name": "ipython",
    "version": 3
   },
   "file_extension": ".py",
   "mimetype": "text/x-python",
   "name": "python",
   "nbconvert_exporter": "python",
   "pygments_lexer": "ipython3",
   "version": "3.10.12"
  }
 },
 "nbformat": 4,
 "nbformat_minor": 5
}
